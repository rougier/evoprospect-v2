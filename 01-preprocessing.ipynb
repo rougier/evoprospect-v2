{
 "cells": [
  {
   "cell_type": "markdown",
   "id": "a6ca3fea",
   "metadata": {},
   "source": [
    "# Preprocessing\n",
    "**Copyright 2023 (c) Naomi Chaix-Echel & Nicolas P Rougier**  \n",
    "Released under a BSD 2-clauses license\n",
    "\n",
    "This notebook reads and process the original dataset to ensure that tasks are named properly.\n",
    "The original dataset is untouched and the processed dataset is saved using an alternative filename.\n",
    "\n",
    "| Name           | Type     | Signification                 |\n",
    "| :------------- | :------- | :---------------------------- |\n",
    "| **subject_id** | string   | Identification of the subject |\n",
    "| **date**       | datetime | Date whe then trial was made   | \n",
    "| **task_id**    | integer  | Identification of the task    | \n",
    "| **P_left**     | float    | Reward probability of the left stimulus |\n",
    "| **V_left**     | float    | Reward amount of the left stimulus |\n",
    "| **P_right**    | float    | Reward probability of the right stimulus |\n",
    "| **P_right**    | float    | Reward amount of the right stimulus |\n",
    "| **response**   | int      | Response (0: left, 1: right) |\n",
    "| **reward**     | int      | Reward delivered (1) or not (0) |\n",
    "| **RT**         | int      | Response time (ms) |\n"
   ]
  },
  {
   "cell_type": "markdown",
   "id": "ad02dcee",
   "metadata": {},
   "source": [
    "## Lottery description\n",
    "\n",
    "For all the following types of lottery, we consider a choice between (x1, p1) and (x2, p2), xi being the value and pi being the probability:\n",
    "* xi can be positive, null or negative: -3, -2, -1, 0, +1, +2, +3\n",
    "* pi can be: 0.25, 0.50, 0.75 or 1.00\n",
    "\n",
    "\n",
    "### Type 1 : x1 > 0 and x2 < 0, p1 = p2\n",
    "\n",
    "* Lottery pairs containing one lottery with potential losses (LPL) and on lottery with potential gains (LPG)\n",
    "* assess the discrimination of losses from the gains\n",
    "* 36 different lottery pairs.\n",
    "\n",
    "### Type 2 : p1 = p2 and x1 > x2 > 0\n",
    "\n",
    "* LPG with a stochastic dominant option differentiating only by the x values\n",
    "* assess the discrimination of positive x-values\n",
    "* 12 different lottery pairs\n",
    "\n",
    "### Type 3 : p1 = p2 and x1 < x2 < 0\n",
    "\n",
    "* LPL with a stochastic dominant option differentiating only by the x values;\n",
    "* assess the discrimination of negative x-values\n",
    "* 12 different lottery pairs\n",
    "\n",
    "### Type 4 : p1 > p2 and x1 = x2 > 0\n",
    "\n",
    "* LPG with a stochastic dominant option differentiating only by the p values\n",
    "* assess the discrimination of p-values associated to positive x-values\n",
    "* 12 different lottery pairs \n",
    "\n",
    "### Type 5 : p1 < p2 and x1 = x2 < 0\n",
    "\n",
    "* LPL with a stochastic dominant option differentiating only by the p values\n",
    "* assess the discrimination of probabilities associated to negative quantities\n",
    "* 18 different lottery pairs\n",
    "\n",
    "### Type 6 : p1 < p2 and x1 > x2 > 0\n",
    "\n",
    "* LPG with no stochastic dominant option\n",
    "* 18 different lottery pairs.\n",
    "\n",
    "### Type 7 : p1 < p2 and x1 < x2 < 0\n",
    "\n",
    "* LPL with no stochastic dominant option\n",
    "* 18 different lottery pairs."
   ]
  },
  {
   "cell_type": "markdown",
   "id": "f02f00ec",
   "metadata": {},
   "source": [
    "## Import packages"
   ]
  },
  {
   "cell_type": "code",
   "execution_count": null,
   "id": "030c059e",
   "metadata": {},
   "outputs": [],
   "source": [
    "import datetime                 # Time operations\n",
    "import numpy as np              # Array operations\n",
    "import pandas as pd             # Database operations\n",
    "import matplotlib.pyplot as plt # Figures"
   ]
  },
  {
   "cell_type": "markdown",
   "id": "5f9c73b9",
   "metadata": {},
   "source": [
    "## Load data"
   ]
  },
  {
   "cell_type": "code",
   "execution_count": null,
   "id": "8a9c0969",
   "metadata": {},
   "outputs": [],
   "source": [
    "print(\"Loading data... \", end=\"\")\n",
    "data_filename = \"./data/data.csv\"\n",
    "original_data = pd.read_csv(data_filename)\n",
    "print(\"done!\")"
   ]
  },
  {
   "cell_type": "markdown",
   "id": "c28eebfd",
   "metadata": {},
   "source": [
    "## Filter, rename & retype fields"
   ]
  },
  {
   "cell_type": "code",
   "execution_count": null,
   "id": "44ea4ae9",
   "metadata": {
    "scrolled": true
   },
   "outputs": [],
   "source": [
    "# Keep only relevant fields\n",
    "data = original_data[[\"date\",\n",
    "                      \"monkey\",\n",
    "                      \"Type\",\n",
    "                      \"stim_left_p\",\n",
    "                      \"stim_left_x0\",\n",
    "                      \"stim_right_p\",\n",
    "                      \"stim_right_x0\",\n",
    "                      \"choice\",\n",
    "                      \"stim_dice_output\",\n",
    "                      \"time_response\"]].copy()\n",
    "\n",
    "# Rename fields\n",
    "data = data.rename(columns={\"monkey\" :           \"subject_id\",\n",
    "                            \"date\" :             \"date\",\n",
    "                            \"Type\" :             \"task_id\",\n",
    "                            \"stim_left_p\" :      \"P_left\",\n",
    "                            \"stim_left_x0\" :     \"V_left\",\n",
    "                            \"stim_right_p\" :     \"P_right\",\n",
    "                            \"stim_right_x0\" :    \"V_right\",\n",
    "                            \"choice\" :           \"response\",\n",
    "                            \"stim_dice_output\" : \"reward\",\n",
    "                            \"time_response\" :    \"RT\"})\n",
    "\n",
    "# Convert task_id type (from string to int)\n",
    "data[\"task_id\"] = 0\n",
    "data[\"task_id\"] = pd.to_numeric(data[\"task_id\"])\n",
    "\n",
    "# Convert date type (from string to datetime64)\n",
    "data[\"date\"] = pd.to_datetime(data[\"date\"])"
   ]
  },
  {
   "cell_type": "markdown",
   "id": "93528cad",
   "metadata": {},
   "source": [
    "## Enrich data with actual gain or loss"
   ]
  },
  {
   "cell_type": "code",
   "execution_count": null,
   "id": "1df880bd",
   "metadata": {},
   "outputs": [],
   "source": [
    "I_left = (data[\"reward\"] == 1) & (data[\"response\"] == 0)\n",
    "I_right = (data[\"reward\"] == 1) & (data[\"response\"] == 1)\n",
    "   \n",
    "data[\"gain\"] = 0\n",
    "data.loc[I_left & (data[\"V_left\"] > 0), \"gain\"] = data[\"V_left\"]\n",
    "data.loc[I_right & (data[\"V_right\"] > 0), \"gain\"] = data[\"V_right\"]\n",
    "    \n",
    "data[\"loss\"] = 0\n",
    "data.loc[I_left & (data[\"V_left\"] < 0), \"loss\"] = data[\"V_left\"]\n",
    "data.loc[I_right & (data[\"V_right\"] < 0), \"loss\"] = data[\"V_right\"]\n"
   ]
  },
  {
   "cell_type": "markdown",
   "id": "a6b4733f",
   "metadata": {},
   "source": [
    "## Assign task id"
   ]
  },
  {
   "cell_type": "code",
   "execution_count": null,
   "id": "83683b63",
   "metadata": {},
   "outputs": [],
   "source": [
    "# We assign task ids based on probablities and values\n",
    "p1, x1 = data[\"P_left\"], data[\"V_left\"]\n",
    "p2, x2 = data[\"P_right\"], data[\"V_right\"]\n",
    "\n",
    "data.loc[(p1 == p2) & (x1 <  0) & (x2 >   0), \"task_id\"] = 1\n",
    "data.loc[(p1 == p2) & (x2 <  0) & (x1 >   0), \"task_id\"] = 1\n",
    "\n",
    "data.loc[(p1 == p2) & (x1 >  0) & (x2 >   0), \"task_id\"] = 2\n",
    "\n",
    "data.loc[(p1 == p2) & (x1 <  0) & (x2 <   0), \"task_id\"] = 3\n",
    "\n",
    "data.loc[(p1 >  p2) & (x1 >  0) & (x1 == x2), \"task_id\"] = 4\n",
    "data.loc[(p2 >  p1) & (x1 >  0) & (x1 == x2), \"task_id\"] = 4\n",
    "\n",
    "data.loc[(p1 >  p2) & (x1 <  0) & (x1 == x2), \"task_id\"] = 5\n",
    "data.loc[(p2 >  p1) & (x1 <  0) & (x1 == x2), \"task_id\"] = 5\n",
    "\n",
    "data.loc[(p1 <  p2) & (x1 > x2) & (x2 >   0), \"task_id\"] = 6\n",
    "data.loc[(p2 <  p1) & (x2 > x1) & (x1 >   0), \"task_id\"] = 6\n",
    "\n",
    "data.loc[(p1 <  p2) & (x1 < x2) & (x2 <   0), \"task_id\"] = 7\n",
    "data.loc[(p2 <  p1) & (x2 < x1) & (x1 <   0), \"task_id\"] = 7"
   ]
  },
  {
   "cell_type": "markdown",
   "id": "73716a4e",
   "metadata": {},
   "source": [
    "## Save new dataset"
   ]
  },
  {
   "cell_type": "code",
   "execution_count": null,
   "id": "d365f218",
   "metadata": {},
   "outputs": [],
   "source": [
    "import os\n",
    "filename, extension = os.path.splitext(data_filename)\n",
    "filename = f\"{filename}-processed{extension}\"\n",
    "\n",
    "print(\"Saving new dataset... \", end=\"\")\n",
    "data.to_csv(filename)\n",
    "print(\"done!\")\n",
    "print(\"New dataset:\", filename)"
   ]
  },
  {
   "cell_type": "code",
   "execution_count": null,
   "id": "6f6c74fb",
   "metadata": {},
   "outputs": [],
   "source": []
  }
 ],
 "metadata": {
  "kernelspec": {
   "display_name": "Python 3 (ipykernel)",
   "language": "python",
   "name": "python3"
  },
  "language_info": {
   "codemirror_mode": {
    "name": "ipython",
    "version": 3
   },
   "file_extension": ".py",
   "mimetype": "text/x-python",
   "name": "python",
   "nbconvert_exporter": "python",
   "pygments_lexer": "ipython3",
   "version": "3.11.4"
  }
 },
 "nbformat": 4,
 "nbformat_minor": 5
}
