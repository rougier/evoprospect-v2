{
 "cells": [
  {
   "cell_type": "markdown",
   "id": "00f73e87",
   "metadata": {},
   "source": [
    "Data from: **The adaptive value of probability distortion and risk-seeking in macaques’ decision-making**\n",
    "A. Nioche, N. P. Rougier, M. Deffains, S. Bourgeois-Gironde, S. Ballesta and T. Boraud\n",
    "https://doi.org/10.1098/rstb.2019.0668"
   ]
  },
  {
   "cell_type": "markdown",
   "id": "7d8ffe79",
   "metadata": {},
   "source": [
    "## Convert Excel file to CSV if necessary"
   ]
  },
  {
   "cell_type": "code",
   "execution_count": null,
   "id": "fd871c21",
   "metadata": {},
   "outputs": [],
   "source": [
    "# Check if csv file has been created\n",
    "# !!! Parsing the excel file takes a few minutes\n",
    "import pandas as pd\n",
    "import os.path\n",
    "\n",
    "data_filename = \"./data/RSTB.csv\"\n",
    "if not os.path.exists(data_filename):\n",
    "    original_data = pd.read_excel(\"./data/RSTB.xlsx\")\n",
    "    original_data.to_csv(data_filename)\n",
    "else:\n",
    "    original_data = pd.read_csv(data_filename)"
   ]
  },
  {
   "cell_type": "markdown",
   "id": "f7447b31",
   "metadata": {},
   "source": [
    "## Make data compatible with new format\n",
    "\n",
    "Process the original dataset to ensure that tasks are named properly.\n",
    "The original dataset is untouched and the processed dataset is saved using an alternative filename.\n",
    "\n",
    "| Name           | Type     | Signification                 |\n",
    "| :------------- | :------- | :---------------------------- |\n",
    "| **subject_id** | string   | Identification of the subject |\n",
    "| **date**       | datetime | Date whe then trial was made   | \n",
    "| **task_id**    | integer  | Identification of the task    | \n",
    "| **P_left**     | float    | Reward probability of the left stimulus |\n",
    "| **V_left**     | float    | Reward amount of the left stimulus |\n",
    "| **P_right**    | float    | Reward probability of the right stimulus |\n",
    "| **P_right**    | float    | Reward amount of the right stimulus |\n",
    "| **response**   | int      | Response (0: left, 1: right) |\n",
    "| **reward**     | int      | Reward delivered (1) or not (0) |\n",
    "| **RT**         | int      | Response time (ms) |\n"
   ]
  },
  {
   "cell_type": "markdown",
   "id": "d54da906",
   "metadata": {},
   "source": [
    "## Filter, rename & retype fields"
   ]
  },
  {
   "cell_type": "code",
   "execution_count": null,
   "id": "43ca2097",
   "metadata": {},
   "outputs": [],
   "source": [
    "# Keep only relevant fields\n",
    "data = original_data[['monkey',\n",
    "                      'date',\n",
    "                      'stim_left_p',\n",
    "                      'stim_left_x0',\n",
    "                      'stim_right_p',\n",
    "                      'stim_right_x0',\n",
    "                      'choice',\n",
    "                      'stim_dice_output',\n",
    "                      'time_response']].copy()\n",
    "data[\"Type\"] = \"0\"\n",
    "\n",
    "# Fix a spurious \"None\" at the end of date \n",
    "data[\"date\"]= data[\"date\"].astype(\"S10\").astype(str)\n",
    "\n",
    "# Rename fields\n",
    "data = data.rename(columns={\"monkey\" :           \"subject_id\",\n",
    "                            \"date\" :             \"date\",\n",
    "                            \"Type\" :             \"task_id\",\n",
    "                            \"stim_left_p\" :      \"P_left\",\n",
    "                            \"stim_left_x0\" :     \"V_left\",\n",
    "                            \"stim_right_p\" :     \"P_right\",\n",
    "                            \"stim_right_x0\" :    \"V_right\",\n",
    "                            \"choice\" :           \"response\",\n",
    "                            \"stim_dice_output\" : \"reward\",\n",
    "                            \"time_response\" :    \"RT\"})\n",
    "\n",
    "# Convert task_id type (from string to int)\n",
    "data[\"task_id\"] = 0\n",
    "data[\"task_id\"] = pd.to_numeric(data[\"task_id\"])\n",
    "\n",
    "# Convert date type (from string to datetime64)\n",
    "data[\"date\"] = pd.to_datetime(data[\"date\"])"
   ]
  },
  {
   "cell_type": "markdown",
   "id": "c19ca227",
   "metadata": {},
   "source": [
    "## Assign task id"
   ]
  },
  {
   "cell_type": "code",
   "execution_count": null,
   "id": "52f7ca88",
   "metadata": {},
   "outputs": [],
   "source": [
    "# We assign task ids based on probablities and values\n",
    "p1, x1 = data[\"P_left\"], data[\"V_left\"]\n",
    "p2, x2 = data[\"P_right\"], data[\"V_right\"]\n",
    "\n",
    "data.loc[(p1 == p2) & (x1 <  0) & (x2 >   0), \"task_id\"] = 1\n",
    "data.loc[(p1 == p2) & (x2 <  0) & (x1 >   0), \"task_id\"] = 1\n",
    "\n",
    "data.loc[(p1 == p2) & (x1 >  0) & (x2 >   0), \"task_id\"] = 2\n",
    "\n",
    "data.loc[(p1 == p2) & (x1 <  0) & (x2 <   0), \"task_id\"] = 3\n",
    "\n",
    "data.loc[(p1 >  p2) & (x1 >  0) & (x1 == x2), \"task_id\"] = 4\n",
    "data.loc[(p2 >  p1) & (x1 >  0) & (x1 == x2), \"task_id\"] = 4\n",
    "\n",
    "data.loc[(p1 >  p2) & (x1 <  0) & (x1 == x2), \"task_id\"] = 5\n",
    "data.loc[(p2 >  p1) & (x1 <  0) & (x1 == x2), \"task_id\"] = 5\n",
    "\n",
    "data.loc[(p1 <  p2) & (x1 > x2) & (x2 >   0), \"task_id\"] = 6\n",
    "data.loc[(p2 <  p1) & (x2 > x1) & (x1 >   0), \"task_id\"] = 6\n",
    "\n",
    "data.loc[(p1 <  p2) & (x1 < x2) & (x2 <   0), \"task_id\"] = 7\n",
    "data.loc[(p2 <  p1) & (x2 < x1) & (x1 <   0), \"task_id\"] = 7"
   ]
  },
  {
   "cell_type": "code",
   "execution_count": null,
   "id": "3c4609d6",
   "metadata": {},
   "outputs": [],
   "source": [
    "import os\n",
    "filename, extension = os.path.splitext(data_filename)\n",
    "filename = f\"{filename}-processed{extension}\"\n",
    "\n",
    "print(\"Saving new dataset... \", end=\"\")\n",
    "data.to_csv(filename)\n",
    "print(\"done!\")\n",
    "print(\"New dataset:\", filename)"
   ]
  }
 ],
 "metadata": {
  "kernelspec": {
   "display_name": "Python 3 (ipykernel)",
   "language": "python",
   "name": "python3"
  },
  "language_info": {
   "codemirror_mode": {
    "name": "ipython",
    "version": 3
   },
   "file_extension": ".py",
   "mimetype": "text/x-python",
   "name": "python",
   "nbconvert_exporter": "python",
   "pygments_lexer": "ipython3",
   "version": "3.11.4"
  }
 },
 "nbformat": 4,
 "nbformat_minor": 5
}
