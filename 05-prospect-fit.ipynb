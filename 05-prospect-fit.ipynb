{
 "cells": [
  {
   "cell_type": "markdown",
   "id": "a6ca3fea",
   "metadata": {},
   "source": [
    "# Analysis of monkey experiments\n",
    "**Copyright 2023 (c) Naomi Chaix-Echel & Nicolas P Rougier**  \n",
    "Released under a BSD 2-clauses license\n",
    "\n",
    "Implementation of the method introduced in [Estimating Prospect Theory Parameters with Maximum Likelihood in R](https://www.thegreatstatsby.com/posts/2021-03-08-ml-prospect/) in order to estimate loss aversion and diminishing marginal utility. \n"
   ]
  },
  {
   "cell_type": "markdown",
   "id": "f02f00ec",
   "metadata": {},
   "source": [
    "## Common packages / functions"
   ]
  },
  {
   "cell_type": "code",
   "execution_count": null,
   "id": "030c059e",
   "metadata": {},
   "outputs": [],
   "source": [
    "%run \"00-common.ipynb\""
   ]
  },
  {
   "cell_type": "markdown",
   "id": "5f9c73b9",
   "metadata": {},
   "source": [
    "## Load data"
   ]
  },
  {
   "cell_type": "code",
   "execution_count": null,
   "id": "8a9c0969",
   "metadata": {},
   "outputs": [],
   "source": [
    "data = pd.read_csv(\"./data/data-processed.csv\", parse_dates=[\"date\"])\n",
    "subject_ids = data['subject_id'].unique()\n",
    "valid_ids, reject_ids = filter_subjects(data)\n",
    "task_ids = list(range(1,8))"
   ]
  },
  {
   "cell_type": "markdown",
   "id": "44791584",
   "metadata": {},
   "source": [
    "## Subjective utility\n",
    "\n",
    "Subjective utility $u(x)$ is defined as: \n",
    "\n",
    "$\n",
    "\\begin{align}\n",
    "u(x) = \\left\\{\n",
    "    \\begin{array}{ll}\n",
    "        x^\\rho & x \\gt 0 \\\\\n",
    "        -\\lambda \\cdot (-x)^{\\rho} & x \\le 0\n",
    "    \\end{array}\n",
    "\\right.\n",
    "\\end{align}\n",
    "$\n",
    "\n",
    "This function includes two parameters that correspond to the variables of interest:\n",
    "* **loss aversion** (denoted by the Greek symbol lambda, λ)\n",
    "* **diminishing marginal utility** (denoted by the Greek symbol rho, ρ)"
   ]
  },
  {
   "cell_type": "code",
   "execution_count": null,
   "id": "1d740660",
   "metadata": {},
   "outputs": [],
   "source": [
    "def subjective_utility(X, p):\n",
    "    \"\"\" Subjective utility of X \"\"\"\n",
    "\n",
    "    return np.where(X > 0, np.power(np.abs( X), p[\"rho\"]),\n",
    "                           -p[\"lambda\"] * np.power(np.abs(X), p[\"rho\"]))"
   ]
  },
  {
   "cell_type": "markdown",
   "id": "0a6ccf3c",
   "metadata": {},
   "source": [
    "## Subjective probability\n",
    "\n",
    "Subjective probability $w(x)$ is defined as: \n",
    "\n",
    "$\n",
    "\\begin{align}\n",
    "w(x) = e^{-(-log(x))^\\alpha}\n",
    "\\end{align}\n",
    "$\n"
   ]
  },
  {
   "cell_type": "code",
   "execution_count": null,
   "id": "5d373167",
   "metadata": {},
   "outputs": [],
   "source": [
    "def subjective_probability(X, p):\n",
    "    \"Subjective probability of X\"\n",
    "\n",
    "    return np.exp(- np.power((-np.log(X)), p[\"alpha\"]))"
   ]
  },
  {
   "cell_type": "markdown",
   "id": "714f2208",
   "metadata": {},
   "source": [
    "## Accept probability\n",
    "\n",
    "\n",
    "$\n",
    "\\begin{align}\n",
    "p(x) = \\frac{1}{1-e^{-\\mu(x-x_0)}}\n",
    "\\end{align}\n",
    "$"
   ]
  },
  {
   "cell_type": "code",
   "execution_count": null,
   "id": "e7ae778a",
   "metadata": {},
   "outputs": [],
   "source": [
    "def accept(X, bias, p=None):\n",
    "    \"\"\"\n",
    "    Probability of accepting a gamble, given a difference X\n",
    "    \n",
    "    Inidividual biases are needed when X derives from the conversion\n",
    "    of left/right to risky/safe. In other case, it can be a scalar.\n",
    "    \n",
    "    \"\"\"\n",
    "    \n",
    "    if p is None:\n",
    "        p = bias\n",
    "        bias = p[\"bias\"]\n",
    "        \n",
    "    P = 1/(1.0 + np.exp(-p[\"mu\"]*(X - p[\"x0\"] + bias)))\n",
    "    # P = 1/(1.0 + np.exp(-p[\"mu\"]*(X - p[\"x0\"])))\n",
    "    epsilon = 1e-10\n",
    "    return np.maximum(np.minimum(P, 1-epsilon), epsilon)"
   ]
  },
  {
   "cell_type": "markdown",
   "id": "9551eb26",
   "metadata": {},
   "source": [
    "## Log likelihood\n",
    "\n",
    "$\n",
    "\\begin{align}\n",
    "LL = - \\sum_{i=0}^{i=n} y_i \\cdot \\log(p(accept_i)) + (1-y_i)\\cdot \\log(1-p(accept_i))\n",
    "\\end{align}\n",
    "$"
   ]
  },
  {
   "cell_type": "code",
   "execution_count": null,
   "id": "aac23159",
   "metadata": {},
   "outputs": [],
   "source": [
    "def log_likelihood(Y, P_risky, V_risky, P_safe, V_safe, bias, p):\n",
    "    \"\"\" Compute the log likelihood  \"\"\"\n",
    "    \n",
    "    R = subjective_probability(P_risky, p) * subjective_utility(V_risky, p)\n",
    "    S = subjective_probability(P_safe, p) * subjective_utility(V_safe, p)\n",
    "    P = accept(R - S, bias, p)\n",
    "    log_likelihood = Y*np.log(P) + (1-Y)*(np.log(1-P))\n",
    "    return -log_likelihood.sum()\n"
   ]
  },
  {
   "cell_type": "markdown",
   "id": "65bf4840",
   "metadata": {},
   "source": [
    "## Fit evaluation (post optimization)"
   ]
  },
  {
   "cell_type": "code",
   "execution_count": null,
   "id": "cefa9001",
   "metadata": {},
   "outputs": [],
   "source": [
    "def evaluate(trials, p):\n",
    "    \"\"\" Compate actual choices with their estimation \"\"\"\n",
    "\n",
    "    Y = trials[\"response\"]\n",
    "    P_risky, V_risky = trials[\"P_risky\"], trials[\"V_risky\"]\n",
    "    P_safe, V_safe = trials[\"P_safe\"], trials[\"V_safe\"]\n",
    "    bias = trials[\"bias\"]\n",
    "    \n",
    "    R = subjective_probability(P_risky, p) * subjective_utility(V_risky, p)\n",
    "    S = subjective_probability(P_safe, p) * subjective_utility(V_safe, p)\n",
    "    P = accept(R - S, bias, p) > 0.5\n",
    "\n",
    "    return Y.sum(), P.sum()"
   ]
  },
  {
   "cell_type": "markdown",
   "id": "5c54e9d9",
   "metadata": {},
   "source": [
    "## Fit prospect theory parameters"
   ]
  },
  {
   "cell_type": "markdown",
   "id": "0fdd81bf",
   "metadata": {},
   "source": [
    "### Parameters for the fit"
   ]
  },
  {
   "cell_type": "code",
   "execution_count": null,
   "id": "2064fc0d",
   "metadata": {},
   "outputs": [],
   "source": [
    "# Number of trials to skip at the start (because monkeys are still learning the task)\n",
    "# 200 is an abitrary number. It could certainly be found automatically based on response time.\n",
    "skipped_trials = 200\n",
    "\n",
    "# Initial guess for parameters\n",
    "X0 = np.array([0,   # x0\n",
    "               1,   # mu\n",
    "               1.5, # alpha\n",
    "               1,   # lambda\n",
    "               1])  # rho\n",
    "\n",
    "# Parameter bounds\n",
    "bounds = np.array([(-5, 5),     # x0\n",
    "                   (0.01, 3),   # mu\n",
    "                   (0.01, 2),   # alpha\n",
    "                   (0.01, 3),   # lambda\n",
    "                   (0.01, 3)])  # rho\n",
    "\n",
    "fits = {}"
   ]
  },
  {
   "cell_type": "markdown",
   "id": "7ae2c992",
   "metadata": {},
   "source": [
    "### Actual fit procedure\n",
    "\n",
    "<div class=\"alert alert-block alert-warning\">\n",
    "<b>Warning:</b> This takes a few seconds</div>\n"
   ]
  },
  {
   "cell_type": "code",
   "execution_count": null,
   "id": "f574fca1",
   "metadata": {
    "scrolled": false
   },
   "outputs": [],
   "source": [
    "def objective(X, Y, P_risky, V_risky, P_safe, V_safe, bias):\n",
    "    params = {\"x0\" : X[0], \"mu\" : X[1], \"alpha\" : X[2], \"lambda\" : X[3], \"rho\" : X[4]}\n",
    "    return log_likelihood(Y, P_risky, V_risky, P_safe, V_safe, bias, params)\n",
    "\n",
    "with tqdm(total=len(valid_ids)) as progress:\n",
    "    for subject_id in valid_ids:\n",
    "\n",
    "        trials = select_trials(convert_trials(data, subject_id, [6,7])).copy()\n",
    "        trials.sort_values(by='date', inplace = True)\n",
    "        trials = trials[skipped_trials:]    \n",
    "    \n",
    "        # Do we normalize values for keping things between -1, +1 ?\n",
    "        Y = trials[\"response\"]\n",
    "        P_risky, V_risky = trials[\"P_risky\"], trials[\"V_risky\"]\n",
    "        P_safe, V_safe = trials[\"P_safe\"], trials[\"V_safe\"]\n",
    "        bias = trials[\"bias\"]\n",
    "    \n",
    "        # X0 = np.random.uniform(low=bounds[:,0], high=bounds[:,1])\n",
    "        # X0 = X0 + .75*np.random.uniform(-1,1,X0.shape)\n",
    "   \n",
    "        res = minimize(objective, x0=X0, bounds=bounds,\n",
    "                                  method=\"L-BFGS-B\", tol=1e-10,\n",
    "                                  options={\"maxiter\": 1000, \"disp\" : False },\n",
    "                                  args = (Y, P_risky, V_risky, P_safe, V_safe, bias))\n",
    "\n",
    "        X = res.x\n",
    "        params = { \"x0\" : X[0], \"mu\" : X[1], \"alpha\" :  X[2], \"lambda\" : X[3], \"rho\" : X[4]}    \n",
    "        fits[subject_id] = params\n",
    "        progress.update()\n"
   ]
  },
  {
   "cell_type": "markdown",
   "id": "33dc84d7",
   "metadata": {},
   "source": [
    "### Evaluate fit by comparing actual gambles with model gambles\n",
    "\n",
    "The closer the ratio to 1.0, the better\n"
   ]
  },
  {
   "cell_type": "code",
   "execution_count": null,
   "id": "5e6dda17",
   "metadata": {
    "scrolled": false
   },
   "outputs": [],
   "source": [
    "mean_perf = 0\n",
    "\n",
    "for subject_id in valid_ids:\n",
    "    \n",
    "    params = fits[subject_id]\n",
    "    \n",
    "    trials = convert_trials(select_trials(data, subject_id, [6])).copy()\n",
    "    trials.sort_values(by='date', inplace = True)\n",
    "    trials = trials[skipped_trials//2:]    \n",
    "    truth, model = evaluate(trials, params) \n",
    "    print(\"%s: Gain (n=%5d): %.2f (%d / %d)\" % (subject_id, len(trials), truth/max(model,1), truth, model))\n",
    "    mean_perf += .5*abs(1-truth/max(model,1))\n",
    "    \n",
    "    trials = convert_trials(select_trials(data, subject_id, [7])).copy()\n",
    "    trials.sort_values(by='date', inplace = True)\n",
    "    trials = trials[skipped_trials//2:]    \n",
    "    \n",
    "    truth, model = evaluate(trials, params)\n",
    "    print(\"     Loss (n=%5d): %.2f (%d / %d)\" % (len(trials), truth/max(model,1), truth, model))\n",
    "    mean_perf += .5*abs(1-truth/max(model,1))\n",
    "    \n",
    "    print()\n",
    "\n",
    "print(\"Mean accuracy: %.1f %%\" % (100-(100*mean_perf/len(valid_ids))))"
   ]
  },
  {
   "cell_type": "markdown",
   "id": "af4705a6",
   "metadata": {},
   "source": [
    "### Compute mean fit"
   ]
  },
  {
   "cell_type": "code",
   "execution_count": null,
   "id": "a4d93023",
   "metadata": {},
   "outputs": [],
   "source": [
    "# Mean parameters\n",
    "mean_fit = {}\n",
    "for pname in params.keys():\n",
    "    mean_fit[pname] = np.mean([fits[sid][pname] for sid in fits.keys()])\n",
    "    \n",
    "# Mean bias (we could have stored biases when filtering valid subjects)\n",
    "mean_bias = 0\n",
    "for sid in fits.keys():\n",
    "    T = select_trials(data, subject_id, [6,7])\n",
    "    # Right bias\n",
    "    bias = len(T.loc[(T['response']==1)])/len(T) - 0.5\n",
    "    fits[sid][\"bias\"] = bias\n",
    "    mean_bias += bias\n",
    "    \n",
    "mean_fit[\"bias\"] = mean_bias/len(fits)"
   ]
  },
  {
   "cell_type": "markdown",
   "id": "b870af5c",
   "metadata": {},
   "source": [
    "### Plot results"
   ]
  },
  {
   "cell_type": "code",
   "execution_count": null,
   "id": "ac8430a4",
   "metadata": {
    "scrolled": false
   },
   "outputs": [],
   "source": [
    "def plot(ax, f, xlimits):\n",
    "    \"\"\" Convenience functon to factorize code\"\"\"\n",
    "    \n",
    "    xmin, xmax = xlimits\n",
    "    X = np.linspace(xmin, xmax, 500)\n",
    "    for p in fits.values():\n",
    "        ax.plot(X, f(X, p), color=\"C0\", lw=0.5, alpha=0.25)\n",
    "    ax.plot(X, f(X, mean_fit), color=\"C0\", lw=1.25)\n",
    "    ax.spines[\"top\"].set_visible(False)\n",
    "    ax.spines[\"right\"].set_visible(False)\n",
    "    return X\n",
    "\n",
    "\n",
    "fig = plt.figure(figsize=(10,10), dpi=200)\n",
    "\n",
    "\n",
    "# Subjective probability\n",
    "# ----------------------\n",
    "ax = plt.subplot(1, 3, 1, aspect=1)\n",
    "X = plot(ax, subjective_probability, xlimits=(0.01,1))\n",
    "ax.plot(X, X, color=\"black\", lw=0.5, ls=\"--\")\n",
    "\n",
    "x0 = np.exp(-1)\n",
    "ax.axvline(x0, color=\"black\", ls=\"--\", lw=.75)\n",
    "ax.axhline(x0, color=\"black\", ls=\"--\", lw=.75)\n",
    "ax.set_title(\"w(p)\")\n",
    "ax.set_xticks([0, x0, 1])\n",
    "ax.set_xticklabels([\"0\", \"1/e\", 1])\n",
    "ax.set_yticks([0, x0, 1])\n",
    "ax.set_yticklabels([\"0\", \"1/e\", 1])\n",
    "ax.text(1, 0.025, r\"$\\alpha = %.2f$\" % mean_fit[\"alpha\"],\n",
    "        ha=\"right\", alpha=.5, transform=ax.transAxes)\n",
    "\n",
    "\n",
    "# Subjective utility\n",
    "# ------------------\n",
    "ax = plt.subplot(1, 3, 2, aspect=.72)\n",
    "X = plot(ax, subjective_utility, xlimits=(-1,1))\n",
    "ax.plot(X, X, color=\"black\", lw=0.5, ls=\"--\")\n",
    "\n",
    "ax.axvline(0, color=\"black\", ls=\"--\", lw=.75)\n",
    "ax.axhline(0, color=\"black\", ls=\"--\", lw=.75)\n",
    "ax.set_xticks([-1, 0, 1])\n",
    "ax.set_yticks([-2, -1, 0, 1])\n",
    "ax.set_title(\"u(x)\")\n",
    "ax.text(1, 0.025, r\"$\\lambda = %.2f, \\rho=%.2f$\" % (mean_fit[\"lambda\"], mean_fit[\"rho\"]),\n",
    "        ha=\"right\", alpha=.5, transform=ax.transAxes)\n",
    "\n",
    "# Accept\n",
    "# ------\n",
    "ax = plt.subplot(1, 3, 3, aspect=4.1)\n",
    "X = plot(ax, accept, xlimits=(-2,2))\n",
    "ax.plot(X, accept(X, {\"x0\" : 0, \"mu\" : 1, \"bias\" : 0}), color=\"black\", lw=0.5, ls=\"--\")\n",
    "ax.axvline(0.0, color=\"black\", ls=\"--\", lw=.75)\n",
    "ax.axhline(0.5, color=\"black\", ls=\"--\", lw=.75)\n",
    "ax.set_title(\"accept(Δx)\")\n",
    "ax.set_xticks([-2, 0, 2])\n",
    "ax.set_yticks([0, 0.5, 1])\n",
    "ax.text(1, 0.025, r\"$\\mu = %.2f, x_0=%.2f$\" % (mean_fit[\"mu\"], mean_fit[\"x0\"]),\n",
    "        ha=\"right\", alpha=.5, transform=ax.transAxes);\n",
    "\n",
    "plt.tight_layout()"
   ]
  },
  {
   "cell_type": "code",
   "execution_count": null,
   "id": "8b02107f",
   "metadata": {},
   "outputs": [],
   "source": []
  }
 ],
 "metadata": {
  "kernelspec": {
   "display_name": "Python 3 (ipykernel)",
   "language": "python",
   "name": "python3"
  },
  "language_info": {
   "codemirror_mode": {
    "name": "ipython",
    "version": 3
   },
   "file_extension": ".py",
   "mimetype": "text/x-python",
   "name": "python",
   "nbconvert_exporter": "python",
   "pygments_lexer": "ipython3",
   "version": "3.11.4"
  }
 },
 "nbformat": 4,
 "nbformat_minor": 5
}
