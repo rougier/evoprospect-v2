{
 "cells": [
  {
   "cell_type": "markdown",
   "id": "a6ca3fea",
   "metadata": {},
   "source": [
    "# Dataset analysis\n",
    "**Copyright 2023 (c) Naomi Chaix-Echel & Nicolas P Rougier**  \n",
    "Released under a BSD 2-clauses license"
   ]
  },
  {
   "cell_type": "markdown",
   "id": "f02f00ec",
   "metadata": {},
   "source": [
    "## Common packages / functions"
   ]
  },
  {
   "cell_type": "code",
   "execution_count": null,
   "id": "030c059e",
   "metadata": {},
   "outputs": [],
   "source": [
    "%run \"00-common.ipynb\""
   ]
  },
  {
   "cell_type": "markdown",
   "id": "5f9c73b9",
   "metadata": {},
   "source": [
    "## Load data"
   ]
  },
  {
   "cell_type": "code",
   "execution_count": null,
   "id": "8a9c0969",
   "metadata": {},
   "outputs": [],
   "source": [
    "data = pd.read_csv(\"./data/data-processed.csv\", parse_dates=[\"date\"])\n",
    "subject_ids = data['subject_id'].unique()\n",
    "valid_ids, reject_ids = filter_subjects(data)\n",
    "date_start, date_end = data[\"date\"].min(), data[\"date\"].max()\n",
    "task_ids = list(range(1,8))"
   ]
  },
  {
   "cell_type": "markdown",
   "id": "c948cf0b",
   "metadata": {},
   "source": [
    "## Measuring attitude towards risk for gain and loss"
   ]
  },
  {
   "cell_type": "code",
   "execution_count": null,
   "id": "e5b9ea9d",
   "metadata": {},
   "outputs": [],
   "source": [
    "X = 2.25*np.arange(len(valid_ids))\n",
    "fig = plt.figure(figsize=(12,4), dpi=150)\n",
    "ax = plt.subplot(1,1,1)\n",
    "\n",
    "task_id = 6\n",
    "total_gambles, risky_gambles = [], []\n",
    "for subject_id in valid_ids:\n",
    "    R = convert_trials(data, subject_id, task_id)[\"response\"]\n",
    "    total_gambles.append(R.size)\n",
    "    risky_gambles.append(R.sum())\n",
    "total_gambles= np.array(total_gambles)\n",
    "risky_gambles= np.array(risky_gambles)\n",
    "\n",
    "ax.bar(X, total_gambles, alpha=.2, color=\"C0\", label=\"Total gambles (gain)\")\n",
    "bar = ax.bar(X, risky_gambles, color=\"C0\", label=\"Risky gambles (higher gain)\")\n",
    "ax.bar_label(bar, labels = [\"%.2f\" % r for r in risky_gambles/total_gambles],\n",
    "             label_type='edge', fontsize=\"xx-small\", color=\"black\")\n",
    "\n",
    "\n",
    "task_id = 7\n",
    "total_gambles, risky_gambles = [], []\n",
    "for subject_id in valid_ids:\n",
    "    R = convert_trials(data, subject_id, task_id)[\"response\"]\n",
    "    total_gambles.append(R.size)\n",
    "    risky_gambles.append(R.sum())   \n",
    "total_gambles= np.array(total_gambles)\n",
    "risky_gambles= np.array(risky_gambles)\n",
    "\n",
    "ax.bar(X+1, total_gambles, alpha=.2, color=\"C1\", label=\"Total gambles (loss)\")\n",
    "bar = ax.bar(X+1, risky_gambles, color=\"C1\", label=\"Risky gambles (smaller loss)\")\n",
    "ax.bar_label(bar, labels = [\"%.2f\" % r for r in risky_gambles/total_gambles],\n",
    "             label_type='edge', fontsize=\"xx-small\", color=\"black\")\n",
    "\n",
    "\n",
    "ax.set_xticks(X+0.5)\n",
    "ax.set_xticklabels(valid_ids)\n",
    "ax.set_yticks([])\n",
    "ax.spines[\"top\"].set_visible(False)\n",
    "ax.spines[\"right\"].set_visible(False)\n",
    "ax.spines[\"left\"].set_visible(False)\n",
    "ax.legend(frameon=False);"
   ]
  },
  {
   "cell_type": "markdown",
   "id": "9fa5dd0e",
   "metadata": {},
   "source": [
    "## Prepare data"
   ]
  },
  {
   "cell_type": "code",
   "execution_count": null,
   "id": "38feb01f",
   "metadata": {},
   "outputs": [],
   "source": [
    "index = pd.date_range(start=date_start, end=date_end, freq=\"W-Mon\");"
   ]
  },
  {
   "cell_type": "markdown",
   "id": "6b487898",
   "metadata": {},
   "source": [
    "## Mean gain (per week)"
   ]
  },
  {
   "cell_type": "code",
   "execution_count": null,
   "id": "3508e20b",
   "metadata": {
    "scrolled": false
   },
   "outputs": [],
   "source": [
    "n = len(valid_ids)\n",
    "\n",
    "fig, axs = plt.subplots(n, 1, figsize=(12,n), dpi=200, sharex=True)\n",
    "fig.suptitle(\"Mean gain & loss (per week)\", fontsize=16, fontweight=\"bold\")\n",
    "\n",
    "for i,subject_id in enumerate(valid_ids):\n",
    "    trials = select_trials(data, subject_id).copy()\n",
    "    G = trials[[\"date\", \"gain\"]].resample('W-Mon', on='date').mean()\n",
    "    L = trials[[\"date\", \"loss\"]].resample('W-Mon', on='date').mean()\n",
    "\n",
    "    ax = axs[i]   \n",
    "    ax.text(0, 1, \" \" + subject_id, fontweight=\"bold\",\n",
    "            transform=ax.transAxes, ha=\"left\", va=\"top\")\n",
    "        \n",
    "    ax.scatter(G.index, G, s=5, color=\"C0\")\n",
    "    ax.scatter(G.index, L, s=5, color=\"C1\")\n",
    "    \n",
    "    ax.set_ylim(-1.25, 1.25)\n",
    "    ax.set_yticks([-1, 0, 1])\n",
    "    ax.axhline(1, color=\"black\", lw=0.5, ls=\"--\")\n",
    "    ax.axhline(0, color=\"black\", lw=0.5, ls=\"--\")\n",
    "    \n",
    "    ax.spines[\"top\"].set_visible(False)\n",
    "    ax.spines[\"right\"].set_visible(False)\n",
    "    \n",
    "plt.tight_layout()"
   ]
  },
  {
   "cell_type": "code",
   "execution_count": null,
   "id": "c746a64c",
   "metadata": {},
   "outputs": [],
   "source": []
  },
  {
   "cell_type": "code",
   "execution_count": null,
   "id": "b09207d3",
   "metadata": {},
   "outputs": [],
   "source": []
  },
  {
   "cell_type": "markdown",
   "id": "d7e79df0",
   "metadata": {},
   "source": [
    "## Normalized risky/safe bet ratio (per week)"
   ]
  },
  {
   "cell_type": "code",
   "execution_count": null,
   "id": "92efb553",
   "metadata": {},
   "outputs": [],
   "source": [
    "n = len(valid_ids)\n",
    "fig, axs = plt.subplots(n, 1, figsize=(12,n), dpi=200, sharex=True)\n",
    "\n",
    "fig.suptitle(\"Normalized risky/safe bet ratio for gain(blue) and loss(red)\", fontsize=16, fontweight=\"bold\")\n",
    "\n",
    "for i,subject_id in enumerate(valid_ids):\n",
    "    ax = axs[i]\n",
    "    T = convert_trials(data, subject_id, 6)[[\"date\", \"response\"]]\n",
    "    risky = T.resample('W-Mon', on='date').sum()\n",
    "    total = T.resample('W-Mon', on='date').count()\n",
    "    X, Y = np.array(risky.index), np.array(risky/total)\n",
    "    ax.scatter(X, Y, s=5, color=\"C0\")\n",
    "    ax.axhline(np.nanmean(Y), color=\"C0\", lw=0.5, ls=\"-\")\n",
    "\n",
    "    T = convert_trials(data, subject_id, 7)[[\"date\", \"response\"]]\n",
    "    trial = T[[\"date\", \"response\"]]\n",
    "    risky = T.resample('W-Mon', on='date').sum()\n",
    "    total = T.resample('W-Mon', on='date').count()\n",
    "    X, Y = np.array(risky.index), np.array(risky/total)\n",
    "    ax.scatter(X, Y, s=5, color=\"C1\")\n",
    "    ax.axhline(np.nanmean(Y), color=\"C1\", lw=0.5, ls=\"-\")\n",
    "\n",
    "\n",
    "    ax.text(0, 1, \" \" + subject_id, fontweight=\"bold\",\n",
    "            transform=ax.transAxes, ha=\"left\", va=\"top\")\n",
    "    ax.set_ylim(-0.1,1.1)\n",
    "    ax.set_yticks([0,1])\n",
    "    ax.axhline(0.5, color=\"black\", lw=0.5, ls=\"--\")\n",
    "    ax.spines[\"top\"].set_visible(False)\n",
    "    ax.spines[\"right\"].set_visible(False)\n",
    "    \n",
    "plt.tight_layout()"
   ]
  },
  {
   "cell_type": "markdown",
   "id": "cb64c447",
   "metadata": {},
   "source": [
    "## Mean reaction time (per week)"
   ]
  },
  {
   "cell_type": "code",
   "execution_count": null,
   "id": "84fa6215",
   "metadata": {},
   "outputs": [],
   "source": [
    "\n",
    "n = len(valid_ids)\n",
    "fig, axs = plt.subplots(n, 1, figsize=(12,n), dpi=200, sharex=True, sharey=True)\n",
    "fig.suptitle(\"Mean reaction time for gain(blue) and loss(red)\", fontsize=16, fontweight=\"bold\")\n",
    "\n",
    "for i,subject_id in enumerate(valid_ids):\n",
    "    ax = axs[i]\n",
    "\n",
    "    T = convert_trials(data, subject_id, 6)[[\"date\", \"RT\"]]\n",
    "    RT_mean = T[\"RT\"].mean()\n",
    "    RT = T.resample('W-Mon', on='date').mean()\n",
    "    ax.scatter(np.array(RT.index), RT, s=5, color=\"C0\", marker=\"d\")\n",
    "    ax.axhline(RT_mean, color=\"C0\", lw=0.5, ls=\"--\")\n",
    "    # xmin, xmax = ax.get_xlim()\n",
    "    # ax.text(xmin, RT_mean, \" %.1f\" % RT_mean, ha=\"left\", va=\"bottom\", color=\"C0\", fontsize=\"x-small\")\n",
    "\n",
    "    T = convert_trials(data, subject_id, 7)[[\"date\", \"RT\"]]\n",
    "    RT_mean = T[\"RT\"].mean()\n",
    "    RT = T.resample('W-Mon', on='date').mean()\n",
    "    ax.scatter(np.array(RT.index), RT, s=5, color=\"C1\", marker=\"d\")\n",
    "    ax.axhline(RT_mean, color=\"C1\", lw=0.5, ls=\"--\")\n",
    "\n",
    "    ax.text(0, 1, \" \" + subject_id, fontweight=\"bold\",\n",
    "            transform=ax.transAxes, ha=\"left\", va=\"top\")\n",
    "    ax.spines[\"top\"].set_visible(False)\n",
    "    ax.spines[\"right\"].set_visible(False)\n",
    "    \n",
    "    # We set y limits manualy to avoid flattening eveyrhting due to outliers\n",
    "    # This means we lose a few points but it eases the reading of the figure\n",
    "    ax.set_ylim(400,1600)\n",
    "    \n",
    "plt.tight_layout()"
   ]
  },
  {
   "cell_type": "markdown",
   "id": "552c2f04",
   "metadata": {},
   "source": [
    "## Evolution of ELO score and rank"
   ]
  },
  {
   "cell_type": "code",
   "execution_count": null,
   "id": "33833d2e",
   "metadata": {
    "scrolled": false
   },
   "outputs": [],
   "source": [
    "# Read elo scores and resample them per week (taking mean)\n",
    "ELO = pd.read_excel('./data/elo-scores.xlsx', parse_dates=[\"Date\"])\n",
    "ELO = ELO.resample('W-Mon', on='Date').mean()\n",
    "\n",
    "# Compute ELO ranks\n",
    "RANK = ELO.assign(**ELO.iloc[:, :].rank(axis = 1, na_option='keep', method='min', ascending = False))\n",
    "\n",
    "\n",
    "# ELO rank per week\n",
    "n = len(valid_ids)\n",
    "fig, axs = plt.subplots(n, 1, figsize=(12,2*n+2), dpi=200, sharex=True, sharey=True)\n",
    "fig.suptitle(\"Mean ELO score (dot) and rank (line)\", fontsize=16, fontweight=\"bold\")\n",
    "\n",
    "for i,subject_id in enumerate(valid_ids):\n",
    "    ax = axs[i]\n",
    "\n",
    "    T = convert_trials(data, subject_id, 6)[[\"date\", \"RT\"]]\n",
    "    RT_mean = T[\"RT\"].mean()\n",
    "    RT = T.resample('W-Mon', on='date').mean()\n",
    "    I = ELO.index.intersection(RT.index)\n",
    "\n",
    "    # We could do much better than an iteration...\n",
    "    for j in range(25):\n",
    "        ax.scatter(I, j+0*RANK[subject_id].loc[I], s=10,\n",
    "                   facecolor=\"black\", edgecolor=\"None\", marker=\"s\", alpha=.05)\n",
    "    \n",
    "    ax.scatter(I, RANK[subject_id].loc[I], s=10, facecolor=\"C0\", marker=\"s\", edgecolor=\"None\")\n",
    "    # ax.axhline(10, color=\"C0\", lw=0.5, ls=\"--\")\n",
    "    \n",
    "    ax.text(0, 1, \" \" + subject_id, fontweight=\"bold\",\n",
    "            transform=ax.transAxes, ha=\"left\", va=\"top\")\n",
    "    ax.spines[\"top\"].set_visible(False)\n",
    "\n",
    "    ax2 = ax.twinx()  \n",
    "    ax2.plot(I, ELO[subject_id].loc[I], color=\"black\", lw=0.75, alpha=0.5)\n",
    "    ax2.spines[\"top\"].set_visible(False)\n",
    "    ax2.set_ylim(400, 1400)\n",
    "\n",
    "plt.tight_layout()"
   ]
  },
  {
   "cell_type": "code",
   "execution_count": null,
   "id": "39e28403",
   "metadata": {
    "scrolled": false
   },
   "outputs": [],
   "source": [
    "# Read elo scores and resample them per week (taking mean)\n",
    "# ELO = pd.read_excel('./data/elo-scores.xlsx', parse_dates=[\"Date\"])\n",
    "\n",
    "#ELO = data\n",
    "#ELO.pivot_table(values='gain', index=ELO[\"date\"], columns='subject_id', aggfunc='first')\n",
    "#ELO = ELO.resample('W-Mon', on='date').mean()\n",
    "\n",
    "\n",
    "# Compute ELO ranks\n",
    "#RANK = ELO.assign(**ELO.iloc[:, :].rank(axis = 0, na_option='keep', method='min', ascending = False))\n",
    "\n",
    "df = data\n",
    "G = df.pivot_table(values='gain', index=df[\"date\"], columns='subject_id', aggfunc='first')\n",
    "G.resample('W-Mon').mean()\n",
    "RANK = G.assign(**G.iloc[:, :].rank(axis = 1, na_option='keep', method='min', ascending = False))\n",
    "\n",
    "\n",
    "# ELO rank per week\n",
    "n = len(valid_ids)\n",
    "fig, axs = plt.subplots(n, 1, figsize=(12,2*n+2), dpi=200, sharex=True, sharey=True)\n",
    "fig.suptitle(\"Mean ELO score (dot) and rank (line)\", fontsize=16, fontweight=\"bold\")\n",
    "\n",
    "for i,subject_id in enumerate(valid_ids):\n",
    "    ax = axs[i]\n",
    "\n",
    "    T = convert_trials(data, subject_id, 6)[[\"date\", \"RT\"]]\n",
    "    RT_mean = T[\"RT\"].mean()\n",
    "    RT = T.resample('W-Mon', on='date').mean()\n",
    "    I = ELO.index.intersection(RT.index)\n",
    "\n",
    "    # We could do much better than an iteration...\n",
    "    for j in range(25):\n",
    "        ax.scatter(I, j+0*RANK[subject_id].loc[I], s=10,\n",
    "                   facecolor=\"black\", edgecolor=\"None\", marker=\"s\", alpha=.05)\n",
    "    \n",
    "    ax.scatter(I, RANK[subject_id].loc[I], s=10, facecolor=\"C0\", marker=\"s\", edgecolor=\"None\")\n",
    "    # ax.axhline(10, color=\"C0\", lw=0.5, ls=\"--\")\n",
    "    \n",
    "    ax.text(0, 1, \" \" + subject_id, fontweight=\"bold\",\n",
    "            transform=ax.transAxes, ha=\"left\", va=\"top\")\n",
    "    ax.spines[\"top\"].set_visible(False)\n",
    "\n",
    "    ax2 = ax.twinx()  \n",
    "    ax2.plot(I, ELO[subject_id].loc[I], color=\"black\", lw=0.75, alpha=0.5)\n",
    "    ax2.spines[\"top\"].set_visible(False)\n",
    "    ax2.set_ylim(400, 1400)\n",
    "\n",
    "plt.tight_layout()"
   ]
  },
  {
   "cell_type": "markdown",
   "id": "31bd34b3",
   "metadata": {},
   "source": [
    "## Debug"
   ]
  },
  {
   "cell_type": "code",
   "execution_count": null,
   "id": "a5b6c2b4",
   "metadata": {},
   "outputs": [],
   "source": [
    "ELO = pd.read_excel('./data/elo-scores.xlsx', parse_dates=[\"Date\"])\n",
    "# ELO"
   ]
  },
  {
   "cell_type": "code",
   "execution_count": null,
   "id": "25d017fa",
   "metadata": {},
   "outputs": [],
   "source": [
    "df = data[[\"date\", \"subject_id\", \"gain\"]]\n",
    "G = df.pivot_table(values='gain', index=df[\"date\"], columns='subject_id', aggfunc='first')\n",
    "GG = G.resample('W-Mon').sum()\n",
    "# GG.head()\n",
    "# RANK = GG.assign(**GG.iloc[:, :].rank(axis = 1, na_option='keep', method='min', ascending = False))"
   ]
  },
  {
   "cell_type": "code",
   "execution_count": null,
   "id": "4ca5345e",
   "metadata": {},
   "outputs": [],
   "source": [
    "fig, axs = plt.subplots(1, 1, figsize=(12,2), dpi=200, sharex=True, sharey=True)\n",
    "plt.scatter(GG.index, GG[\"dor\"])"
   ]
  },
  {
   "cell_type": "code",
   "execution_count": null,
   "id": "69bc6531",
   "metadata": {},
   "outputs": [],
   "source": [
    "fig, axs = plt.subplots(1, 1, figsize=(12,2), dpi=200, sharex=True, sharey=True)\n",
    "plt.scatter(GG.index, GG[\"ala\"])"
   ]
  },
  {
   "cell_type": "code",
   "execution_count": null,
   "id": "0c6343a9",
   "metadata": {},
   "outputs": [],
   "source": []
  }
 ],
 "metadata": {
  "kernelspec": {
   "display_name": "Python 3 (ipykernel)",
   "language": "python",
   "name": "python3"
  },
  "language_info": {
   "codemirror_mode": {
    "name": "ipython",
    "version": 3
   },
   "file_extension": ".py",
   "mimetype": "text/x-python",
   "name": "python",
   "nbconvert_exporter": "python",
   "pygments_lexer": "ipython3",
   "version": "3.11.4"
  }
 },
 "nbformat": 4,
 "nbformat_minor": 5
}
