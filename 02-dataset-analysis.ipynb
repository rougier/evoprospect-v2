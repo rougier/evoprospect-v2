{
 "cells": [
  {
   "cell_type": "markdown",
   "id": "a6ca3fea",
   "metadata": {},
   "source": [
    "# Dataset analysis\n",
    "**Copyright 2023 (c) Naomi Chaix-Echel & Nicolas P Rougier**  \n",
    "Released under a BSD 2-clauses license"
   ]
  },
  {
   "cell_type": "markdown",
   "id": "c3dfc174",
   "metadata": {},
   "source": [
    "## Common packages / functions"
   ]
  },
  {
   "cell_type": "code",
   "execution_count": 1,
   "id": "5c4deb2b",
   "metadata": {},
   "outputs": [],
   "source": [
    "%run \"00-common.ipynb\""
   ]
  },
  {
   "cell_type": "markdown",
   "id": "5f9c73b9",
   "metadata": {},
   "source": [
    "## Load data"
   ]
  },
  {
   "cell_type": "code",
   "execution_count": 2,
   "id": "8a9c0969",
   "metadata": {},
   "outputs": [],
   "source": [
    "data = pd.read_csv(\"./data/data-processed.csv\", parse_dates=[\"date\"])\n",
    "subject_ids = data['subject_id'].unique()\n",
    "valid_ids, reject_ids = filter_subjects(data)\n",
    "task_ids = list(range(1,8))"
   ]
  },
  {
   "cell_type": "markdown",
   "id": "fa9e25c3",
   "metadata": {},
   "source": [
    "## Dataset statistics"
   ]
  },
  {
   "cell_type": "code",
   "execution_count": 3,
   "id": "a801baa1",
   "metadata": {},
   "outputs": [
    {
     "name": "stdout",
     "output_type": "stream",
     "text": [
      "\n",
      "\u001b[1mStart date:        \u001b[0m 22 February 2020\n",
      "\u001b[1mEnd date:          \u001b[0m 05 December 2022\n",
      "\u001b[1mDuration:          \u001b[0m 1,017 days\n",
      "\u001b[1mNumber of subjects:\u001b[0m 22\n",
      "\u001b[1mNumber of trials:  \u001b[0m 1,607,436\n",
      "\u001b[1mMeans trials/day:  \u001b[0m 1,580\n",
      "\n",
      "\u001b[1mNumber of trials for task 0: \u001b[0m 159,756\n",
      "\u001b[1mNumber of trials for task 1: \u001b[0m 236,809\n",
      "\u001b[1mNumber of trials for task 2: \u001b[0m 201,615\n",
      "\u001b[1mNumber of trials for task 3: \u001b[0m 201,102\n",
      "\u001b[1mNumber of trials for task 4: \u001b[0m 201,282\n",
      "\u001b[1mNumber of trials for task 5: \u001b[0m 204,621\n",
      "\u001b[1mNumber of trials for task 6: \u001b[0m 201,298\n",
      "\u001b[1mNumber of trials for task 7: \u001b[0m 200,953\n",
      "\n",
      "\u001b[1mValid IDs (n=14):\u001b[0m abr, nem, alv, ala, bar, ces, oli, pac, dor, yoh, las, eri, fic, ber\n",
      "\u001b[1mReject IDs (n=8):\u001b[0m anu, jea, ner, olg, yin, pat, her, hor\n"
     ]
    }
   ],
   "source": [
    "def bold(s):\n",
    "    \"\"\" Return s as a bold string using ANSI codes \"\"\"\n",
    "    return \"\\033[1m\" + s + \"\\033[0m\"\n",
    "\n",
    "n_trials = len(data)\n",
    "n_subjects = len(data[\"subject_id\"].unique())\n",
    "date_start, date_end = data[\"date\"].min(), data[\"date\"].max()\n",
    "n_days = (date_end - date_start).days\n",
    "trials_per_day = int(n_trials/n_days)\n",
    "\n",
    "print()\n",
    "print(bold(\"Start date:        \"), date_start.strftime(\"%d %B %Y\"))\n",
    "print(bold(\"End date:          \"), date_end.strftime(\"%d %B %Y\"))\n",
    "print(bold(f\"Duration:          \"), f\"{n_days:,} days\")\n",
    "      \n",
    "print(bold(\"Number of subjects:\"), n_subjects)\n",
    "print(bold(\"Number of trials:  \"), f\"{n_trials:,}\")\n",
    "print(bold(\"Means trials/day:  \"), f\"{trials_per_day:,}\")\n",
    "print()\n",
    "for i in range(8):\n",
    "    count = (data[\"task_id\"] == i).sum()\n",
    "    print(bold(f\"Number of trials for task {i}: \"), f\"{count:,}\")\n",
    "    \n",
    "print()\n",
    "print(bold(\"Valid IDs (n=%d):\" % len(valid_ids)),  \", \".join(valid_ids))\n",
    "print(bold(\"Reject IDs (n=%d):\" % len(reject_ids)), \", \".join(reject_ids))"
   ]
  },
  {
   "cell_type": "markdown",
   "id": "c948cf0b",
   "metadata": {},
   "source": [
    "## Mean number of trials per month"
   ]
  },
  {
   "cell_type": "code",
   "execution_count": 4,
   "id": "a88a2068",
   "metadata": {},
   "outputs": [
    {
     "name": "stdout",
     "output_type": "stream",
     "text": [
      "\n",
      "\u001b[1mNumber of trials per month\u001b[0m\n"
     ]
    },
    {
     "data": {
      "image/png": "[encoded data removed]",
      "text/plain": [
       "<Figure size 1200x150 with 1 Axes>"
      ]
     },
     "metadata": {},
     "output_type": "display_data"
    }
   ],
   "source": [
    "print()\n",
    "print(bold(\"Number of trials per month\"))\n",
    "dates = data[\"date\"]\n",
    "hist = data[\"date\"].groupby([dates.dt.year, dates.dt.month]).count()\n",
    "ax = hist.plot(kind=\"bar\", figsize=(12, 1.5), xlabel=\"\");\n",
    "ax.spines[\"top\"].set_visible(False)\n",
    "ax.spines[\"right\"].set_visible(False)\n",
    "ax.tick_params(axis='both', which='major', labelsize=\"x-small\")\n",
    "\n",
    "x0 = -0.5\n",
    "x1 = 12 - date_start.month + 0.5\n",
    "year = date_start.year\n",
    "ymin, ymax = ax.get_ylim()\n",
    "for i in range(date_end.year - date_start.year+1):\n",
    "    plt.fill_betweenx([0, ymax], x0, x1,\n",
    "                      facecolor=\"C0\", alpha=0.05*(1+(i%2)))\n",
    "    plt.text(x1-0.25, 0.95*ymax, \"%d\" % (year+i), va=\"top\", ha=\"right\", color=\"black\")\n",
    "    x0, x1 = x1, x1+12"
   ]
  },
  {
   "cell_type": "markdown",
   "id": "f41fd938",
   "metadata": {},
   "source": [
    "## Evolution of mean response time over months"
   ]
  },
  {
   "cell_type": "code",
   "execution_count": 5,
   "id": "046de4b6",
   "metadata": {
    "scrolled": true
   },
   "outputs": [
    {
     "name": "stdout",
     "output_type": "stream",
     "text": [
      "\n",
      "\u001b[1mMean response time (ms) over months\u001b[0m\n"
     ]
    },
    {
     "data": {
      "image/png": "[encoded data removed]",
      "text/plain": [
       "<Figure size 1200x150 with 1 Axes>"
      ]
     },
     "metadata": {},
     "output_type": "display_data"
    }
   ],
   "source": [
    "print()\n",
    "print(bold(\"Mean response time (ms) over months\"))\n",
    "RT_mean = data[\"RT\"].groupby([data[\"date\"].dt.year, data[\"date\"].dt.month]).mean()\n",
    "RT_std = data[\"RT\"].groupby([data[\"date\"].dt.year, data[\"date\"].dt.month]).std()\n",
    "\n",
    "ax = RT_mean.plot(kind=\"bar\", figsize=(12, 1.5), xlabel=\"\", yerr=RT_std)\n",
    "ax.spines[\"top\"].set_visible(False)\n",
    "ax.spines[\"right\"].set_visible(False)\n",
    "ax.tick_params(axis='both', which='major', labelsize=\"x-small\")\n",
    "\n",
    "x0 = -0.5\n",
    "x1 = 12 - date_start.month + 0.5\n",
    "year = date_start.year\n",
    "ymin, ymax = ax.get_ylim()\n",
    "for i in range(date_end.year - date_start.year+1):\n",
    "    plt.fill_betweenx([0, ymax], x0, x1,\n",
    "                      facecolor=\"C0\", alpha=0.05*(1+(i%2)))\n",
    "    plt.text(x1-0.25, 0.95*ymax, \"%d\" % (year+i), va=\"top\", ha=\"right\", color=\"black\")\n",
    "    x0, x1 = x1, x1+12"
   ]
  },
  {
   "cell_type": "code",
   "execution_count": null,
   "id": "e5b9ea9d",
   "metadata": {},
   "outputs": [],
   "source": []
  }
 ],
 "metadata": {
  "kernelspec": {
   "display_name": "Python 3 (ipykernel)",
   "language": "python",
   "name": "python3"
  },
  "language_info": {
   "codemirror_mode": {
    "name": "ipython",
    "version": 3
   },
   "file_extension": ".py",
   "mimetype": "text/x-python",
   "name": "python",
   "nbconvert_exporter": "python",
   "pygments_lexer": "ipython3",
   "version": "3.11.7"
  }
 },
 "nbformat": 4,
 "nbformat_minor": 5
}
