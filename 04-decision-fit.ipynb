{
 "cells": [
  {
   "cell_type": "markdown",
   "id": "a6ca3fea",
   "metadata": {},
   "source": [
    "# Analysis of monkey experiments\n",
    "**Copyright 2023 (c) Naomi Chaix-Echel & Nicolas P Rougier**  \n",
    "Released under a BSD 2-clauses license"
   ]
  },
  {
   "cell_type": "markdown",
   "id": "f02f00ec",
   "metadata": {},
   "source": [
    "## Common packages / functions"
   ]
  },
  {
   "cell_type": "code",
   "execution_count": null,
   "id": "030c059e",
   "metadata": {},
   "outputs": [],
   "source": [
    "%run \"00-common.ipynb\""
   ]
  },
  {
   "cell_type": "markdown",
   "id": "5f9c73b9",
   "metadata": {},
   "source": [
    "## Load data"
   ]
  },
  {
   "cell_type": "code",
   "execution_count": null,
   "id": "8a9c0969",
   "metadata": {},
   "outputs": [],
   "source": [
    "# dataset = \"RSTB\"\n",
    "dataset = \"data\"\n",
    "\n",
    "data_file = f\"./data/{dataset}-processed.csv\"\n",
    "results_json_file = f\"./results/{dataset}-decision-fits.json\"\n",
    "results_figure_file = f\"./figures/{dataset}-decision-fits.pdf\"\n",
    "\n",
    "data = pd.read_csv(data_file, parse_dates=[\"date\"])\n",
    "subject_ids = data['subject_id'].unique()\n",
    "valid_ids, reject_ids = filter_subjects(data)\n",
    "task_ids = list(range(1,8))"
   ]
  },
  {
   "cell_type": "markdown",
   "id": "99f6ad19",
   "metadata": {},
   "source": [
    "## Decision fit \n",
    "\n",
    "Considering the function\n",
    "\n",
    "$\n",
    "\\begin{align}\n",
    "p(x) = \\frac{1}{1-e^{\\mu(x-x_0)}}\n",
    "\\end{align}\n",
    "$\n",
    "\n",
    "we aim at fitting subjects response to measure their willingness to choose one option over the other. To do so, we compute the mean response when presented with two options (x1,p1) and (x2,p2) for every couples in a given task and we fit those points with the function above. For tasks 1 to 5, we consider right / left option while for tasks 6 and 7, we consider riskiest / safest options."
   ]
  },
  {
   "cell_type": "code",
   "execution_count": null,
   "id": "1484ece4",
   "metadata": {},
   "outputs": [],
   "source": [
    "def sigmoid(x, mu, x0):\n",
    "    \"\"\" Sigmoid \"\"\"\n",
    "    \n",
    "    return 1 / (1 + np.exp(-mu * (x - x0)))\n"
   ]
  },
  {
   "cell_type": "code",
   "execution_count": null,
   "id": "3f5bd1c9",
   "metadata": {},
   "outputs": [],
   "source": [
    "def fit_sigmoid(subject_id, task_id):\n",
    "    \"\"\" Fit decision of SUBJECT_ID for TASK_ID\n",
    "    \n",
    "        Return the mu and x0 parameters for the sigmoid.\n",
    "    \"\"\"\n",
    "    \n",
    "    trials = select_trials(data, subject_id, task_id)\n",
    "    condition, outcome = get_task_description(task_id)\n",
    "    \n",
    "    # Left stimuli\n",
    "    P_left = np.array(trials['P_left'])\n",
    "    V_left = np.array(trials['V_left'])\n",
    "    EV_left = P_left * V_left\n",
    "\n",
    "    # Right stimuli\n",
    "    P_right = np.array(trials['P_right'])\n",
    "    V_right = np.array(trials['V_right'])\n",
    "    EV_right = P_right * V_right\n",
    "\n",
    "    D = EV_right - EV_left\n",
    "    R = np.array(trials['response'])\n",
    "    \n",
    "    if condition == Condition.tradeoff:\n",
    "        # For riskiest and safest, we don't care about the sign of the reward\n",
    "        # because tradeoff condition has been designd such that the higher prob\n",
    "        # means safest (lower gain or lower loss) while the lower prob means\n",
    "        # riskiest (higher gain or higher loss)\n",
    "        L = (P_left < P_right) \n",
    "        D = np.where(L, -D, D)\n",
    "        R = np.where(L, 1-R, R)\n",
    "        \n",
    "    X, Y = np.unique(D), []\n",
    "    for x in X:\n",
    "        I = np.argwhere(D == x)\n",
    "        Y.append(R[I].sum()/len(I))\n",
    "    \n",
    "    p_opt, p_cov = curve_fit(f=sigmoid, xdata=X, ydata=Y, maxfev=10000)    \n",
    "    return p_opt[0], p_opt[1], X, Y"
   ]
  },
  {
   "cell_type": "markdown",
   "id": "c72b3a72",
   "metadata": {},
   "source": [
    "## Compute sigmoid fits for all valid individuals and trial types\n",
    "\n",
    "<div class=\"alert alert-block alert-warning\">\n",
    "<b>Warning:</b> This takes a few seconds</div>\n",
    "\n",
    "<div class=\"alert alert-block alert-warning\">\n",
    "<b>Warning:</b> Left/Right bias is not taken into account and it is not clear how to take it into account</div>\n"
   ]
  },
  {
   "cell_type": "code",
   "execution_count": null,
   "id": "26508a1a",
   "metadata": {},
   "outputs": [],
   "source": [
    "sigmoid_fits = {}\n",
    "total = len(valid_ids)*len(task_ids)\n",
    "\n",
    "with tqdm(total=total) as progress:\n",
    "    for subject_id in valid_ids:\n",
    "        sigmoid_fits[subject_id] = {}\n",
    "        for task_id in task_ids:\n",
    "            fit = fit_sigmoid(subject_id, task_id)            \n",
    "            sigmoid_fits[subject_id][task_id] = fit\n",
    "            progress.update()"
   ]
  },
  {
   "cell_type": "markdown",
   "id": "7dbbd323",
   "metadata": {},
   "source": [
    "## Save results"
   ]
  },
  {
   "cell_type": "code",
   "execution_count": null,
   "id": "7cfde994",
   "metadata": {},
   "outputs": [],
   "source": [
    "fits = {}\n",
    "for subject_id in sigmoid_fits.keys():\n",
    "    fit = sigmoid_fits[subject_id]\n",
    "    for task_id in fit.keys():\n",
    "        key = \"%s-%d\" % (subject_id, task_id)\n",
    "        fits[key] = sigmoid_fits[subject_id][task_id][:2]\n",
    "\n",
    "with open(results_json_file, \"w\") as file:\n",
    "    json.dump(fits, file, indent=4)"
   ]
  },
  {
   "cell_type": "markdown",
   "id": "044fc1b4",
   "metadata": {},
   "source": [
    "## Plot all individuals and trial types"
   ]
  },
  {
   "cell_type": "code",
   "execution_count": null,
   "id": "de2bd8a0",
   "metadata": {},
   "outputs": [],
   "source": [
    "def get_task_color(task_id):\n",
    "    \"\"\"Color based on task outcome\"\"\"        \n",
    "    \n",
    "    colors = { Outcome.gain : \"C0\",\n",
    "               Outcome.loss : \"C1\",\n",
    "               Outcome.both : \"black\" }\n",
    "    condidition, outcome = get_task_description(task_id)\n",
    "    return colors[outcome]\n",
    "\n",
    "def get_task_xlabel(task_id):\n",
    "    \"\"\"X label based on task condition\"\"\"        \n",
    "    \n",
    "    labels = { Condition.same_p   : \"$EV_{right} - EV_{left}$\",\n",
    "               Condition.same_v   : \"$EV_{right} - EV_{left}$\",\n",
    "               Condition.tradeoff : \"$EV_{riskiest} - EV_{safest}$\" }\n",
    "    condition, outcome = get_task_description(task_id)\n",
    "    return labels[condition]\n",
    "\n",
    "def get_task_ylabel(task_id):\n",
    "    \"\"\"Y label based on task condition\"\"\"        \n",
    "    \n",
    "    labels = { Condition.same_p   : \"p(choose right)\",\n",
    "               Condition.same_v   : \"p(choose right)\",\n",
    "               Condition.tradeoff : \"p(choose riskiest)\" }\n",
    "    condition, outcome = get_task_description(task_id)\n",
    "    return labels[condition]\n",
    "\n",
    "def get_task_title(task_id):\n",
    "    \n",
    "    titles = { Condition.same_p   : \"Same probabilities\",\n",
    "               Condition.same_v   : \"Same values\",\n",
    "               Condition.tradeoff : \"Risky\" }\n",
    "    gains = { Outcome.gain : \"gain\",\n",
    "              Outcome.loss : \"loss\",\n",
    "              Outcome.both : \"both\" }\n",
    "\n",
    "    condition, outcome = get_task_description(task_id)\n",
    "    return titles[condition] + \" (%s)\" % gains[outcome] \n"
   ]
  },
  {
   "cell_type": "code",
   "execution_count": null,
   "id": "5fd811fe",
   "metadata": {},
   "outputs": [],
   "source": [
    "# The mean fit is the sigmoid whose mu/x0 are the mean of individual fits\n",
    "\n",
    "fig, axs = plt.subplots(2, 3, sharex=False, sharey=False, figsize=(12, 8), dpi=200)\n",
    "\n",
    "EV_min = data[\"V_left\"].min()*data[\"P_left\"].min()\n",
    "EV_max = data[\"V_left\"].max()*data[\"P_left\"].max()\n",
    "xmin, xmax = EV_min-EV_max, EV_max - EV_min\n",
    "X = np.linspace(xmin, xmax, 10000)\n",
    "\n",
    "outcomes = [Outcome.gain, Outcome.loss]\n",
    "conditions = [Condition.same_p, Condition.same_v, Condition.tradeoff]\n",
    "\n",
    "for i, outcome in enumerate(outcomes):\n",
    "    for j, condition in enumerate(conditions):\n",
    "    \n",
    "        task_id = get_task_id(condition, outcome)\n",
    "        color = get_task_color(task_id)\n",
    "        xlabel = get_task_xlabel(task_id)\n",
    "        ylabel = get_task_ylabel(task_id)\n",
    "        title = get_task_title(task_id)\n",
    "        ax = axs[i,j]\n",
    "    \n",
    "        x0_mean, mu_mean, n = 0, 0, 0\n",
    "        for subject_id in valid_ids:\n",
    "            mu, x0, X_fit, Y_fit = sigmoid_fits[subject_id][task_id]\n",
    "            \n",
    "            # We reject fits whose x0 is twice outside bounds\n",
    "            if 2*xmin < x0 < 2*xmax:\n",
    "                x0_mean += x0\n",
    "                mu_mean += mu\n",
    "                n += 1\n",
    "                ax.plot(X, sigmoid(X, mu, x0), color=color, alpha=0.25, lw=.5)   \n",
    "                X_fit = X_fit + 0.1*np.random.normal(0, 1, X_fit.shape)\n",
    "                ax.scatter(X_fit, Y_fit, s=25, facecolor=color, edgecolor=\"None\", alpha=.25)                \n",
    "            else:\n",
    "                ax.plot(X, sigmoid(X, mu, x0), color=\"black\", alpha=0.25, lw=.5, ls =\"--\")\n",
    "                ax.scatter(X_fit, Y_fit, s=25, edgecolor=color, facecolor=\"None\", alpha=.25)                \n",
    "                \n",
    "        x0_mean /= n\n",
    "        mu_mean /= n\n",
    "        ax.plot(X, sigmoid(X, mu_mean, x0_mean), color=color, alpha=1.0, lw=2)        \n",
    "\n",
    "        dy = 0.25/4\n",
    "        x = X[np.argmin(abs(sigmoid(X, mu_mean, x0_mean) - 0.5))] \n",
    "        ax.plot([x, x], [0.5-dy, 0.5], color=color, lw=1)\n",
    "        ax.text(x, 0.5-1.25*dy, \"%.2f\" % x,\n",
    "                ha=\"center\", va=\"top\", color=color, fontsize=\"small\")\n",
    "                        \n",
    "        dx = 0.25\n",
    "        y = float(sigmoid([0], mu_mean, x0_mean))\n",
    "        ax.plot([-dx,0], [y,y], color=color, lw=1)\n",
    "        ax.text(-1.5*dx, y, \"%.2f\" % y,\n",
    "                ha=\"right\", va=\"center\", color=color, fontsize=\"small\")\n",
    "        \n",
    "        ax.spines['top'].set_visible(False)\n",
    "        ax.spines['right'].set_visible(False)\n",
    "        ax.set_title(title)\n",
    "\n",
    "        ax.set_ylim(-0.05, 1.05)\n",
    "        ax.set_yticks([0,1])\n",
    "        ax.set_ylabel(ylabel, labelpad=-10)\n",
    "        \n",
    "        ax.set_xlim(-2.05, 2.05)\n",
    "        ax.set_xticks([-2, +2])\n",
    "        ax.set_xlabel(xlabel, labelpad=-10)\n",
    "        \n",
    "        ax.text(2, 0, \"Task id #%d\" % task_id, ha=\"right\", va=\"bottom\", alpha=0.25)\n",
    "        \n",
    "        ax.axvline(0, ls='--', lw=0.75, color=\"black\")\n",
    "        ax.axhline(0.5, ls='--', lw=0.75, color=\"black\")\n",
    "plt.tight_layout()\n",
    "plt.savefig(results_figure_file)"
   ]
  },
  {
   "cell_type": "code",
   "execution_count": null,
   "id": "1df9b5d0",
   "metadata": {},
   "outputs": [],
   "source": []
  }
 ],
 "metadata": {
  "kernelspec": {
   "display_name": "Python 3 (ipykernel)",
   "language": "python",
   "name": "python3"
  },
  "language_info": {
   "codemirror_mode": {
    "name": "ipython",
    "version": 3
   },
   "file_extension": ".py",
   "mimetype": "text/x-python",
   "name": "python",
   "nbconvert_exporter": "python",
   "pygments_lexer": "ipython3",
   "version": "3.11.4"
  }
 },
 "nbformat": 4,
 "nbformat_minor": 5
}
